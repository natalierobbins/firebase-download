{
  "nbformat": 4,
  "nbformat_minor": 0,
  "metadata": {
    "colab": {
      "provenance": []
    },
    "kernelspec": {
      "name": "python3",
      "display_name": "Python 3"
    },
    "language_info": {
      "name": "python"
    }
  },
  "cells": [
    {
      "cell_type": "markdown",
      "source": [
        "# Firebase Download"
      ],
      "metadata": {
        "id": "mPTTJaK4KXRP"
      }
    },
    {
      "cell_type": "markdown",
      "source": [
        "**Before starting**, make sure to make a copy by going to `File` >> `Save a Copy in Drive` on the upper left-hand corner!"
      ],
      "metadata": {
        "id": "X2B7pSTAINlA"
      }
    },
    {
      "cell_type": "markdown",
      "source": [
        "\n",
        "Note: **[TODO]** comments denote code blocks where you may have to modify/add information before running the code block. \n",
        "\n",
        "Any code blocks without a **[TODO]** comment still need to be run, just without any modification."
      ],
      "metadata": {
        "id": "IQW0C7xHKlMR"
      }
    },
    {
      "cell_type": "markdown",
      "source": [
        "# Set up"
      ],
      "metadata": {
        "id": "KTGb6Fj1JgSk"
      }
    },
    {
      "cell_type": "markdown",
      "source": [
        "Run the following code to import required modules:"
      ],
      "metadata": {
        "id": "su2TH0rI-dFS"
      }
    },
    {
      "cell_type": "code",
      "source": [
        "!git clone https://github.com/natalierobbins/firebase-download.git"
      ],
      "metadata": {
        "id": "AU1Y4GosH73h"
      },
      "execution_count": null,
      "outputs": []
    },
    {
      "cell_type": "code",
      "execution_count": null,
      "metadata": {
        "id": "6lMKfGojRy3V"
      },
      "outputs": [],
      "source": [
        "import firebase_admin\n",
        "from firebase_admin import credentials, storage\n",
        "from json import loads\n",
        "import sys\n",
        "sys.path.insert(1, 'firebase-download')\n",
        "from colab_script import select_files, confirm_files, firebase_download"
      ]
    },
    {
      "cell_type": "markdown",
      "source": [
        "**[TODO]: Upload credentials**\n",
        "\n",
        "Run the following code to upload your service account credentials. You can download your service account credentials on your [Firebase Console](https://console.firebase.google.com/u/0/) under `Project Settings` > `Service Accounts` > `Generate new private key`."
      ],
      "metadata": {
        "id": "Vbwmbb5tACOb"
      }
    },
    {
      "cell_type": "code",
      "source": [
        "from google.colab import files\n",
        "uploaded = files.upload()"
      ],
      "metadata": {
        "id": "pO7-99e5-phK"
      },
      "execution_count": null,
      "outputs": []
    },
    {
      "cell_type": "markdown",
      "source": [
        "**[TODO]*: Set name of Firebase app**\n",
        "\n",
        "Change this to the name of what you would like your folder to be named in your Google Drive (you can run this code block to see what the default is currently set to -- if you are satisfied with this name, you do not need to make any changes)."
      ],
      "metadata": {
        "id": "XivbOV2F0zl8"
      }
    },
    {
      "cell_type": "code",
      "source": [
        "vals = next(iter(uploaded.values()))\n",
        "creds = loads(vals.decode())\n",
        "\n",
        "name = creds['project_id'] ### TODO (optional): set name\n",
        "print('Your project/folder name:', name)"
      ],
      "metadata": {
        "id": "ShQ9Gmx20uVW"
      },
      "execution_count": null,
      "outputs": []
    },
    {
      "cell_type": "markdown",
      "source": [
        "Run to initialize your Firebase app instance. Note that you only need to run this block once; running it multiple times will return an (ignoreable) error."
      ],
      "metadata": {
        "id": "QPtohXY6Ez8T"
      }
    },
    {
      "cell_type": "code",
      "source": [
        "c = firebase_admin.credentials.Certificate(creds)\n",
        "s = {'storageBucket': f\"\"\"{creds['project_id']}.appspot.com\"\"\" }\n",
        "\n",
        "app = firebase_admin.initialize_app(c, s, name)"
      ],
      "metadata": {
        "id": "8s9Qq2D8AFMx"
      },
      "execution_count": null,
      "outputs": []
    },
    {
      "cell_type": "markdown",
      "source": [
        "# Connect with Google Drive"
      ],
      "metadata": {
        "id": "sGU7oH28JpSd"
      }
    },
    {
      "cell_type": "markdown",
      "source": [
        "When running this cell, give this script permission so that you can mount this Colab notebook to your Google Drive. This will be very, very important so that you can save your data securely."
      ],
      "metadata": {
        "id": "rb0TLJPQE8Tj"
      }
    },
    {
      "cell_type": "code",
      "source": [
        "from google.colab import drive\n",
        "from google.colab import runtime\n",
        "drive.mount('/content/gdrive')"
      ],
      "metadata": {
        "id": "ocWMgtnfCfwH"
      },
      "execution_count": null,
      "outputs": []
    },
    {
      "cell_type": "code",
      "source": [
        "data_directory = f\"\"\"/content/gdrive/MyDrive/{name}/\"\"\" # DO NOT CHANGE"
      ],
      "metadata": {
        "id": "OqLQwaIkEw4n"
      },
      "execution_count": null,
      "outputs": []
    },
    {
      "cell_type": "markdown",
      "source": [
        "# Download"
      ],
      "metadata": {
        "id": "FE8rrXxOJys0"
      }
    },
    {
      "cell_type": "markdown",
      "source": [
        "**[TODO]: Select files for download**\n",
        "\n",
        "Select the files you would like to download -- if you are unhappy with the confirmation list you get, or if you realize you have navigated too far into your file tree, just restart this code block.\n",
        "\n",
        "You can run this selection block and the download block below as many times as you'd like with any selections you'd like."
      ],
      "metadata": {
        "id": "duwjNPcUGx7m"
      }
    },
    {
      "cell_type": "code",
      "source": [
        "selected_blobs = confirm_files(select_files(app))"
      ],
      "metadata": {
        "id": "h7UVB231Gaqm"
      },
      "execution_count": null,
      "outputs": []
    },
    {
      "cell_type": "code",
      "source": [
        "firebase_download(selected_blobs, data_directory)"
      ],
      "metadata": {
        "id": "0EF51nY1B4Yg"
      },
      "execution_count": null,
      "outputs": []
    }
  ]
}